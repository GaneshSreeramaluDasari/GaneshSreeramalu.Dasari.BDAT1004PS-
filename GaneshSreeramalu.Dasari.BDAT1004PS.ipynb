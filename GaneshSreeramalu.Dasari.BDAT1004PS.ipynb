{
 "cells": [
  {
   "cell_type": "markdown",
   "id": "0ba7e894",
   "metadata": {},
   "source": [
    "# Problem Set 1"
   ]
  },
  {
   "cell_type": "markdown",
   "id": "a80313b9",
   "metadata": {},
   "source": [
    "Question 1\n",
    "\n",
    "What data type is each of the following (evaluate where necessary)?"
   ]
  },
  {
   "cell_type": "code",
   "execution_count": 1,
   "id": "0acd7492",
   "metadata": {},
   "outputs": [],
   "source": [
    "import pandas as pd\n",
    "import numpy as np"
   ]
  },
  {
   "cell_type": "markdown",
   "id": "7cbd4837",
   "metadata": {},
   "source": [
    "Question 1\n",
    "What data type is each of the following (evaluate where necessary)?"
   ]
  },
  {
   "cell_type": "code",
   "execution_count": 2,
   "id": "1e0e1561",
   "metadata": {},
   "outputs": [],
   "source": [
    "a = 5\n",
    "b = 5.0\n",
    "c = 5 > 1\n",
    "d = '5'\n",
    "e = 5 * 2\n",
    "f = '5' * 2\n",
    "g = '5' + '2'\n",
    "h = 5 / 2\n",
    "i = 5 % 2\n",
    "j = {5, 2, 1}\n",
    "k = 5 == 3\n",
    "l = 3.14"
   ]
  },
  {
   "cell_type": "code",
   "execution_count": 3,
   "id": "c281ed54",
   "metadata": {},
   "outputs": [
    {
     "name": "stdout",
     "output_type": "stream",
     "text": [
      "<class 'int'>\n",
      "<class 'float'>\n",
      "<class 'bool'>\n",
      "<class 'str'>\n",
      "<class 'int'>\n",
      "<class 'str'>\n",
      "<class 'str'>\n",
      "<class 'float'>\n",
      "<class 'int'>\n",
      "<class 'set'>\n",
      "<class 'bool'>\n",
      "<class 'float'>\n"
     ]
    }
   ],
   "source": [
    "print(type(a))\n",
    "print(type(b))\n",
    "print(type(c))\n",
    "print(type(d))\n",
    "print(type(e))\n",
    "print(type(f))\n",
    "print(type(g))\n",
    "print(type(h))\n",
    "print(type(i))\n",
    "print(type(j))\n",
    "print(type(k))\n",
    "print(type(l))"
   ]
  },
  {
   "cell_type": "markdown",
   "id": "9b6920ea",
   "metadata": {},
   "source": [
    "Question 2\n",
    "Write (and evaluate) python expressions that answer these questions:\n",
    "a. How many letters are there in 'Supercalifragilisticexpialidocious'?\n",
    "b. Does 'Supercalifragilisticexpialidocious' contain 'ice' as a substring?\n",
    "c. Which of the following words is the longest:\n",
    "Supercalifragilisticexpialidocious, Honorificabilitudinitatibus, or\n",
    "Bababadalgharaghtakamminarronnkonn?\n",
    "d. Which composer comes first in the dictionary: 'Berlioz', 'Borodin', 'Brian',\n",
    "'Bartok', 'Bellini', 'Buxtehude', 'Bernstein'. Which one comes last?"
   ]
  },
  {
   "cell_type": "code",
   "execution_count": 4,
   "id": "49f755c2",
   "metadata": {},
   "outputs": [
    {
     "name": "stdout",
     "output_type": "stream",
     "text": [
      "34\n"
     ]
    }
   ],
   "source": [
    "m = \"Supercalifragilisticexpialidocious\"\n",
    "print(len(m))"
   ]
  },
  {
   "cell_type": "code",
   "execution_count": 5,
   "id": "39fb53d7",
   "metadata": {},
   "outputs": [
    {
     "name": "stdout",
     "output_type": "stream",
     "text": [
      "Yes, contains\n"
     ]
    }
   ],
   "source": [
    "n = \"ice\"\n",
    "if n in m:\n",
    "    print(\"Yes, contains\")\n",
    "else :\n",
    "    print(\"No, does not contains\")"
   ]
  },
  {
   "cell_type": "code",
   "execution_count": 6,
   "id": "e23ea2e4",
   "metadata": {},
   "outputs": [
    {
     "name": "stdout",
     "output_type": "stream",
     "text": [
      "Bababadalgharaghtakamminarronnkonn is longest\n"
     ]
    }
   ],
   "source": [
    "o = \"Honorificabilitudinitatibus\"\n",
    "p = \"Bababadalgharaghtakamminarronnkonn\"\n",
    "\n",
    "if len(m)>len(o) & len(m)>len(p):\n",
    "    print(\"Supercalifragilisticexpialidocious is longest\")\n",
    "elif len(o)>len(m) & len(o)>len(p):\n",
    "    print(\"Honorificabilitudinitatibus is longest\")\n",
    "else :\n",
    "    print(\"Bababadalgharaghtakamminarronnkonn is longest\")\n",
    "    "
   ]
  },
  {
   "cell_type": "code",
   "execution_count": 7,
   "id": "c2443b38",
   "metadata": {},
   "outputs": [],
   "source": [
    "q = ['Berlioz', 'Borodin', 'Brian','Bartok', 'Bellini', 'Buxtehude', 'Bernstein']\n"
   ]
  },
  {
   "cell_type": "code",
   "execution_count": 8,
   "id": "484965fa",
   "metadata": {},
   "outputs": [
    {
     "name": "stdout",
     "output_type": "stream",
     "text": [
      "composer comes first is Bartok\n",
      "composer comes last is Buxtehude\n",
      "Bartok\n",
      "Bellini\n",
      "Berlioz\n",
      "Bernstein\n",
      "Borodin\n",
      "Brian\n",
      "Buxtehude\n"
     ]
    }
   ],
   "source": [
    "q = ['Berlioz', 'Borodin', 'Brian', 'Bartok', 'Bellini', 'Buxtehude', 'Bernstein']\n",
    "\n",
    "print(\"composer comes first is \" + min(q))\n",
    "print(\"composer comes last is \" + max(q))\n",
    "\n",
    "comp = sorted(q)\n",
    "for composer in comp:\n",
    "    print(composer)\n",
    "    "
   ]
  },
  {
   "cell_type": "markdown",
   "id": "0744e803",
   "metadata": {},
   "source": [
    "Question 3\n",
    "Implement function triangleArea(a,b,c) that takes as input the lengths of the 3\n",
    "sides of a triangle and returns the area of the triangle. By Heron's formula, the area \n",
    "of a triangle with side lengths a, b, and c is\n",
    "s(s - a)(s -b)(s -c)\n",
    ", where \n",
    "s = (a+b+c)/2."
   ]
  },
  {
   "cell_type": "code",
   "execution_count": 9,
   "id": "c822fc87",
   "metadata": {},
   "outputs": [],
   "source": [
    "def triangleArea():\n",
    "    a = float(input(\"Enter the length of side a: \"))\n",
    "    b = float(input(\"Enter the length of side b: \"))\n",
    "    c = float(input(\"Enter the length of side c: \"))\n",
    "\n",
    "    s = (a + b + c) / 2\n",
    "    area = (s * (s - a) * (s - b) * (s - c)) ** 0.5\n",
    "    print(\"Area of the triangle:\", area)\n",
    "    return area\n"
   ]
  },
  {
   "cell_type": "code",
   "execution_count": 10,
   "id": "2a78dc14",
   "metadata": {},
   "outputs": [
    {
     "name": "stdout",
     "output_type": "stream",
     "text": [
      "Enter the length of side a: 2\n",
      "Enter the length of side b: 3\n",
      "Enter the length of side c: 4\n",
      "Area of the triangle: 2.9047375096555625\n"
     ]
    }
   ],
   "source": [
    "r = triangleArea()"
   ]
  },
  {
   "cell_type": "markdown",
   "id": "51ce221f",
   "metadata": {},
   "source": [
    "Question 4\n",
    "Write a program in python to separate odd and even integers in separate arrays. Go \n",
    "to the editor\n",
    "Test Data :\n",
    "Input the number of elements to be stored in the array :5\n",
    "Input 5 elements in the array :\n",
    "element - 0 : 25\n",
    "element - 1 : 47\n",
    "element - 2 : 42\n",
    "element - 3 : 56\n",
    "element - 4 : 32\n"
   ]
  },
  {
   "cell_type": "code",
   "execution_count": 11,
   "id": "2a39d417",
   "metadata": {},
   "outputs": [
    {
     "name": "stdout",
     "output_type": "stream",
     "text": [
      "Odd numbers: [25, 47]\n",
      "Even numbers: [42, 56, 32]\n"
     ]
    }
   ],
   "source": [
    "s= [25,47,42,56,32]\n",
    "odd = []\n",
    "even = []\n",
    "for num in s:\n",
    "    if num % 2 == 0:\n",
    "        even.append(num)\n",
    "    else:\n",
    "        odd.append(num)\n",
    "print(\"Odd numbers:\", odd)\n",
    "print(\"Even numbers:\", even)"
   ]
  },
  {
   "cell_type": "markdown",
   "id": "203536ed",
   "metadata": {},
   "source": [
    "Question 5 \n",
    "a. Write a function inside(x,y,x1,y1,x2,y2) that returns True or False \n",
    "depending on whether the point (x,y) lies in the rectangle with lower left \n",
    "corner (x1,y1) and upper right corner (x2,y2)."
   ]
  },
  {
   "cell_type": "code",
   "execution_count": 12,
   "id": "9c425e69",
   "metadata": {},
   "outputs": [],
   "source": [
    "def inside(x, y, x1, y1, x2, y2):\n",
    "    if x1 <= x <= x2 and y1 <= y <= y2:\n",
    "        return True\n",
    "    else:\n",
    "        return False"
   ]
  },
  {
   "cell_type": "code",
   "execution_count": 13,
   "id": "9f79134d",
   "metadata": {},
   "outputs": [
    {
     "name": "stdout",
     "output_type": "stream",
     "text": [
      "False\n",
      "True\n"
     ]
    }
   ],
   "source": [
    "t = inside(1,1,0.3,0.5,1.1,0.7)\n",
    "print(t)\n",
    "u = inside(1,1,0.5,0.2,1.1,2)\n",
    "print(u)"
   ]
  },
  {
   "cell_type": "markdown",
   "id": "6b570792",
   "metadata": {},
   "source": [
    "Question 6\n",
    "You can turn a word into pig-Latin using the following two rules (simplified):\n",
    "• If the word starts with a consonant, move that letter to the end and append \n",
    "'ay'. For example, 'happy' becomes 'appyhay' and 'pencil' becomes 'encilpay'.\n",
    "• If the word starts with a vowel, simply append 'way' to the end of the word. \n",
    "For example, 'enter' becomes 'enterway' and 'other' becomes 'otherway' . For \n",
    "our purposes, there are 5 vowels: a, e, i, o, u (so we count y as a consonant).\n",
    "Write a function pig() that takes a word (i.e., a string) as input and returns its pig\u0002Latin form. Your function should still work if the input word contains upper case \n",
    "characters. Your output should always be lower case however."
   ]
  },
  {
   "cell_type": "code",
   "execution_count": 14,
   "id": "d126dc90",
   "metadata": {},
   "outputs": [],
   "source": [
    "def pig(w):\n",
    "    w = w.lower()\n",
    "    \n",
    "    v = ['a', 'e', 'i', 'o', 'u']\n",
    "    if w[0] in v:\n",
    "        return w + 'way'\n",
    "    else:\n",
    "        return w[1:] + w[0] + 'ay'"
   ]
  },
  {
   "cell_type": "code",
   "execution_count": 15,
   "id": "5f0729a0",
   "metadata": {},
   "outputs": [
    {
     "data": {
      "text/plain": [
       "'appyhay'"
      ]
     },
     "execution_count": 15,
     "metadata": {},
     "output_type": "execute_result"
    }
   ],
   "source": [
    "pig(\"Happy\")"
   ]
  },
  {
   "cell_type": "code",
   "execution_count": 16,
   "id": "dd3d5884",
   "metadata": {},
   "outputs": [
    {
     "data": {
      "text/plain": [
       "'enterway'"
      ]
     },
     "execution_count": 16,
     "metadata": {},
     "output_type": "execute_result"
    }
   ],
   "source": [
    "pig(\"Enter\")"
   ]
  },
  {
   "cell_type": "markdown",
   "id": "ede59836",
   "metadata": {},
   "source": [
    "Question 7\n",
    "File bloodtype1.txt records blood-types of patients (A, B, AB, O or OO) at a clinic. \n",
    "Write a function bldcount() that reads the file with name name and reports (i.e., \n",
    "prints) how many patients there are in each bloodtype"
   ]
  },
  {
   "cell_type": "code",
   "execution_count": 29,
   "id": "dde2f514",
   "metadata": {},
   "outputs": [
    {
     "name": "stdout",
     "output_type": "stream",
     "text": [
      "There are 15 patients of blood type A.\n",
      "There is 1 patient of blood type B.\n",
      "There are 13 patients of blood type AB.\n",
      "There are 15 patients of blood type O.\n",
      "There are 0 patients of blood type OO.\n"
     ]
    }
   ],
   "source": [
    "def bldcount(bloodtype1):\n",
    "    blood_counts = {'A': 0, 'B': 0, 'AB': 0, 'O': 0, 'OO': 0}\n",
    "    \n",
    "    try:\n",
    "        with open(bloodtype1 + '.txt', 'r') as file:\n",
    "            blood_types = file.read().split()\n",
    "            \n",
    "            for blood_type in blood_types:\n",
    "                if blood_type in blood_counts:\n",
    "                    blood_counts[blood_type] += 1\n",
    "        \n",
    "        for blood_type, count in blood_counts.items():\n",
    "            patient_count = \"patient\" if count == 1 else \"patients\"\n",
    "            print(f\"There {'is' if count == 1 else 'are'} {count} {patient_count} of blood type {blood_type}.\")\n",
    "    \n",
    "    except FileNotFoundError:\n",
    "        print(\"File not found.\")\n",
    "\n",
    "bldcount('bloodtype1')\n"
   ]
  },
  {
   "cell_type": "markdown",
   "id": "f3f89146",
   "metadata": {},
   "source": [
    "Question 8\n",
    "Write a function curconv() that takes as input:\n",
    "1. a currency represented using a string (e.g., 'JPY' for the Japanese Yen or \n",
    "'EUR' for the Euro)\n",
    "2. an amount\n",
    "and then converts and returns the amount in US dollars"
   ]
  },
  {
   "cell_type": "code",
   "execution_count": 30,
   "id": "ae747b82",
   "metadata": {},
   "outputs": [],
   "source": [
    "def readfile():\n",
    "    with open('currencies.txt', 'r') as file:\n",
    "        currency = file.readlines()\n",
    "    \n",
    "    return currency\n",
    "    \n",
    "def curconv(inp_curr, amount):\n",
    "    Conversion_rate = {}\n",
    "    for currency in readfile():\n",
    "        temp_arr = currency.split('\\t')\n",
    "        Conversion_rate[temp_arr[0]] = float(temp_arr[1])\n",
    "\n",
    "    \n",
    "    final_amount = Conversion_rate[inp_curr] * amount\n",
    "    return final_amount"
   ]
  },
  {
   "cell_type": "code",
   "execution_count": 31,
   "id": "2226697c",
   "metadata": {},
   "outputs": [
    {
     "data": {
      "text/plain": [
       "122.96544"
      ]
     },
     "execution_count": 31,
     "metadata": {},
     "output_type": "execute_result"
    }
   ],
   "source": [
    "curconv('EUR', 100)"
   ]
  },
  {
   "cell_type": "code",
   "execution_count": 32,
   "id": "7d6038f0",
   "metadata": {},
   "outputs": [
    {
     "data": {
      "text/plain": [
       "1.241401"
      ]
     },
     "execution_count": 32,
     "metadata": {},
     "output_type": "execute_result"
    }
   ],
   "source": [
    "curconv('JPY', 100)"
   ]
  },
  {
   "cell_type": "markdown",
   "id": "da18dcaa",
   "metadata": {},
   "source": [
    "Question 9\n",
    "Each of the following will cause an exception (an error). Identify what type of \n",
    "exception each will cause\n",
    "Trying to add incompatible variables, as in \n",
    "adding 6 + ‘a’\n",
    "Referring to the 12th item of a list that has only 10 \n",
    "items\n",
    "Using a value that is out of range for a function’s \n",
    "input, such as calling math.sqrt(-1.0)\n",
    "Using an undeclared variable, such as print(x)\n",
    "when x has not been defined \n",
    "Trying to open a file that does not exist, such as \n",
    "mistyping the file name or looking in the wrong \n",
    "directory"
   ]
  },
  {
   "cell_type": "markdown",
   "id": "23d2cc3c",
   "metadata": {},
   "source": [
    "ANswer:\n",
    "\n",
    "TypeError because you cannot perform addition between an integer and a string.\n",
    "IndexError because the list index is out of range. Lists are zero-indexed, so accessing the 12th item of a list with only 10 items will result in an error.\n",
    "ValueError because the math.sqrt() function expects a non-negative number as its argument.\n",
    "NameError because the variable x has not been assigned a value or declared before being used in the print() statement.\n",
    "FileNotFoundError because the specified file cannot be found in the given location. It could be due to mistyping the file name, providing an incorrect file path, or the file simply not existing in the specified directory.\n"
   ]
  },
  {
   "cell_type": "markdown",
   "id": "63ab8b35",
   "metadata": {},
   "source": [
    "Question 10\n",
    "Encryption is the process of hiding the meaning of a text by substituting letters in the \n",
    "message with other letters, according to some system. If the process is successful, no \n",
    "one but the intended recipient can understand the encrypted message. Cryptanalysis\n",
    "refers to attempts to undo the encryption, even if some details of the encryption are \n",
    "unknown (for example, if an encrypted message has been intercepted). The first step \n",
    "of cryptanalysis is often to build up a table of letter frequencies in the encrypted text. \n",
    "Assume that the string letters is already defined as \n",
    "'abcdefghijklmnopqrstuvwxyz'. Write a function called frequencies()\n",
    "that takes a string as its only parameter, and returns a list of integers, showing the \n",
    "number of times each character appears in the text. Your function may ignore any \n",
    "characters that are not in letters. "
   ]
  },
  {
   "cell_type": "code",
   "execution_count": 33,
   "id": "42ad2b1b",
   "metadata": {},
   "outputs": [
    {
     "name": "stdout",
     "output_type": "stream",
     "text": [
      "[1, 1, 1, 3, 5, 1, 1, 2, 1, 0, 1, 0, 1, 2, 4, 0, 1, 2, 0, 3, 1, 0, 1, 1, 0, 0]\n",
      "[1, 0, 0, 0, 1, 0, 0, 0, 0, 0, 0, 1, 0, 0, 0, 2, 0, 0, 0, 0, 0, 0, 0, 0, 0, 0]\n"
     ]
    }
   ],
   "source": [
    "def frequencies(text):\n",
    "    \n",
    "    l = 'abcdefghijklmnopqrstuvwxyz' \n",
    "    f_list = []    \n",
    "    \n",
    "    for char in l: \n",
    "        \n",
    "        value = text.lower().count(char) \n",
    "        \n",
    "        f_list.append(value)  \n",
    "    \n",
    "    return f_list  \n",
    "\n",
    "print(frequencies('The quick red fox got bored and went home.'))\n",
    "\n",
    "print(frequencies('apple'))"
   ]
  },
  {
   "cell_type": "code",
   "execution_count": null,
   "id": "94caf59e",
   "metadata": {},
   "outputs": [],
   "source": []
  }
 ],
 "metadata": {
  "kernelspec": {
   "display_name": "Python 3",
   "language": "python",
   "name": "python3"
  },
  "language_info": {
   "codemirror_mode": {
    "name": "ipython",
    "version": 3
   },
   "file_extension": ".py",
   "mimetype": "text/x-python",
   "name": "python",
   "nbconvert_exporter": "python",
   "pygments_lexer": "ipython3",
   "version": "3.9.5"
  }
 },
 "nbformat": 4,
 "nbformat_minor": 5
}
